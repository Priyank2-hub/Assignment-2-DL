{
 "cells": [
  {
   "cell_type": "code",
   "execution_count": 2,
   "id": "bbeaf055",
   "metadata": {},
   "outputs": [],
   "source": [
    "import os, glob, random, cv2\n",
    "import keras\n",
    "import multiprocessing\n",
    "\n",
    "import numpy as np\n",
    "import pandas as pd\n",
    "import keras.backend as K\n",
    "import matplotlib.pyplot as plt\n",
    "\n",
    "from copy import deepcopy\n",
    "\n",
    "from sklearn.metrics import precision_recall_curve, auc\n",
    "from sklearn.model_selection import train_test_split\n",
    "\n",
    "from keras.optimizers import Adam\n",
    "from keras.callbacks import Callback\n",
    "from keras.applications.densenet import DenseNet201\n",
    "from keras.layers import Dense, Flatten\n",
    "from keras.models import Model, load_model\n",
    "from keras.utils import Sequence\n",
    "from keras_radam import RAdam\n",
    "\n",
    "from albumentations import Compose, VerticalFlip, HorizontalFlip, Rotate, GridDistortion\n",
    "from IPython.display import Image\n",
    "from tqdm import tqdm_notebook as tqdm\n",
    "from numpy.random import seed\n",
    "import tensorflow\n",
    "\n",
    "seed(10)\n",
    "tensorflow.random.set_seed(10)\n",
    "%matplotlib inline"
   ]
  },
  {
   "cell_type": "code",
   "execution_count": 3,
   "id": "80b498b9",
   "metadata": {},
   "outputs": [],
   "source": [
    "test_imgs_dir = 'C:/Users/priya/Downloads/understanding_cloud_organization/test_images'\n",
    "t_image_dir ='C:/Users/priya/Downloads/understanding_cloud_organization/train_images'\n",
    "num_cores = multiprocessing.cpu_count()"
   ]
  },
  {
   "cell_type": "code",
   "execution_count": 4,
   "id": "8d0e7a4d",
   "metadata": {},
   "outputs": [
    {
     "data": {
      "text/html": [
       "<div>\n",
       "<style scoped>\n",
       "    .dataframe tbody tr th:only-of-type {\n",
       "        vertical-align: middle;\n",
       "    }\n",
       "\n",
       "    .dataframe tbody tr th {\n",
       "        vertical-align: top;\n",
       "    }\n",
       "\n",
       "    .dataframe thead th {\n",
       "        text-align: right;\n",
       "    }\n",
       "</style>\n",
       "<table border=\"1\" class=\"dataframe\">\n",
       "  <thead>\n",
       "    <tr style=\"text-align: right;\">\n",
       "      <th></th>\n",
       "      <th>Image_Label</th>\n",
       "      <th>EncodedPixels</th>\n",
       "    </tr>\n",
       "  </thead>\n",
       "  <tbody>\n",
       "    <tr>\n",
       "      <th>0</th>\n",
       "      <td>0011165.jpg_Fish</td>\n",
       "      <td>264918 937 266318 937 267718 937 269118 937 27...</td>\n",
       "    </tr>\n",
       "    <tr>\n",
       "      <th>1</th>\n",
       "      <td>0011165.jpg_Flower</td>\n",
       "      <td>1355565 1002 1356965 1002 1358365 1002 1359765...</td>\n",
       "    </tr>\n",
       "    <tr>\n",
       "      <th>2</th>\n",
       "      <td>0011165.jpg_Gravel</td>\n",
       "      <td>NaN</td>\n",
       "    </tr>\n",
       "    <tr>\n",
       "      <th>3</th>\n",
       "      <td>0011165.jpg_Sugar</td>\n",
       "      <td>NaN</td>\n",
       "    </tr>\n",
       "    <tr>\n",
       "      <th>4</th>\n",
       "      <td>002be4f.jpg_Fish</td>\n",
       "      <td>233813 878 235213 878 236613 878 238010 881 23...</td>\n",
       "    </tr>\n",
       "  </tbody>\n",
       "</table>\n",
       "</div>"
      ],
      "text/plain": [
       "          Image_Label                                      EncodedPixels\n",
       "0    0011165.jpg_Fish  264918 937 266318 937 267718 937 269118 937 27...\n",
       "1  0011165.jpg_Flower  1355565 1002 1356965 1002 1358365 1002 1359765...\n",
       "2  0011165.jpg_Gravel                                                NaN\n",
       "3   0011165.jpg_Sugar                                                NaN\n",
       "4    002be4f.jpg_Fish  233813 878 235213 878 236613 878 238010 881 23..."
      ]
     },
     "execution_count": 4,
     "metadata": {},
     "output_type": "execute_result"
    }
   ],
   "source": [
    "train_df = pd.read_csv('C:/Users/priya/Downloads/understanding_cloud_organization/train.csv')\n",
    "train_df.head()"
   ]
  },
  {
   "cell_type": "code",
   "execution_count": 5,
   "id": "68158f83",
   "metadata": {},
   "outputs": [
    {
     "data": {
      "text/html": [
       "<div>\n",
       "<style scoped>\n",
       "    .dataframe tbody tr th:only-of-type {\n",
       "        vertical-align: middle;\n",
       "    }\n",
       "\n",
       "    .dataframe tbody tr th {\n",
       "        vertical-align: top;\n",
       "    }\n",
       "\n",
       "    .dataframe thead th {\n",
       "        text-align: right;\n",
       "    }\n",
       "</style>\n",
       "<table border=\"1\" class=\"dataframe\">\n",
       "  <thead>\n",
       "    <tr style=\"text-align: right;\">\n",
       "      <th></th>\n",
       "      <th>Image</th>\n",
       "      <th>Class</th>\n",
       "      <th>Fish</th>\n",
       "      <th>Flower</th>\n",
       "      <th>Sugar</th>\n",
       "      <th>Gravel</th>\n",
       "    </tr>\n",
       "  </thead>\n",
       "  <tbody>\n",
       "    <tr>\n",
       "      <th>0</th>\n",
       "      <td>0011165.jpg</td>\n",
       "      <td>{Fish, Flower}</td>\n",
       "      <td>1</td>\n",
       "      <td>1</td>\n",
       "      <td>0</td>\n",
       "      <td>0</td>\n",
       "    </tr>\n",
       "    <tr>\n",
       "      <th>1</th>\n",
       "      <td>002be4f.jpg</td>\n",
       "      <td>{Fish, Flower, Sugar}</td>\n",
       "      <td>1</td>\n",
       "      <td>1</td>\n",
       "      <td>1</td>\n",
       "      <td>0</td>\n",
       "    </tr>\n",
       "    <tr>\n",
       "      <th>2</th>\n",
       "      <td>0031ae9.jpg</td>\n",
       "      <td>{Fish, Flower, Sugar}</td>\n",
       "      <td>1</td>\n",
       "      <td>1</td>\n",
       "      <td>1</td>\n",
       "      <td>0</td>\n",
       "    </tr>\n",
       "    <tr>\n",
       "      <th>3</th>\n",
       "      <td>0035239.jpg</td>\n",
       "      <td>{Flower, Gravel}</td>\n",
       "      <td>0</td>\n",
       "      <td>1</td>\n",
       "      <td>0</td>\n",
       "      <td>1</td>\n",
       "    </tr>\n",
       "    <tr>\n",
       "      <th>4</th>\n",
       "      <td>003994e.jpg</td>\n",
       "      <td>{Fish, Gravel, Sugar}</td>\n",
       "      <td>1</td>\n",
       "      <td>0</td>\n",
       "      <td>1</td>\n",
       "      <td>1</td>\n",
       "    </tr>\n",
       "  </tbody>\n",
       "</table>\n",
       "</div>"
      ],
      "text/plain": [
       "         Image                  Class  Fish  Flower  Sugar  Gravel\n",
       "0  0011165.jpg         {Fish, Flower}     1       1      0       0\n",
       "1  002be4f.jpg  {Fish, Flower, Sugar}     1       1      1       0\n",
       "2  0031ae9.jpg  {Fish, Flower, Sugar}     1       1      1       0\n",
       "3  0035239.jpg       {Flower, Gravel}     0       1      0       1\n",
       "4  003994e.jpg  {Fish, Gravel, Sugar}     1       0      1       1"
      ]
     },
     "execution_count": 5,
     "metadata": {},
     "output_type": "execute_result"
    }
   ],
   "source": [
    "t_data_F = t_data_F[~t_data_F['EncodedPixels'].isnull()]\n",
    "t_data_F['Image'] = t_data_F['Image_Label'].map(lambda x: x.split('_')[0])\n",
    "t_data_F['Class'] = t_data_F['Image_Label'].map(lambda x: x.split('_')[1])\n",
    "\n",
    "cls = t_data_F['Class'].unique()\n",
    "\n",
    "t_data_F = t_data_F.groupby('Image')['Class'].agg(set).reset_index()\n",
    "\n",
    "for class_name in cls:\n",
    "    t_data_F[class_name] = t_data_F['Class'].map(lambda x: 1 if class_name in x else 0)\n",
    "\n",
    "t_data_F.head()"
   ]
  },
  {
   "cell_type": "code",
   "execution_count": 6,
   "id": "03c5854e",
   "metadata": {},
   "outputs": [],
   "source": [
    "# Dictionary for fast access\n",
    "img_2_ohe_vector = {img:vec for img, vec in zip(train_df['Image'], train_df.iloc[:, 2:].values)}"
   ]
  },
  {
   "cell_type": "code",
   "execution_count": 7,
   "id": "dd29402e",
   "metadata": {},
   "outputs": [],
   "source": [
    "# train-val split\n",
    "t_image, validation_image = train_test_split(train_df['Image'].values, \n",
    "                                        test_size = 0.2, \n",
    "                                        stratify = train_df['Class'].map(lambda x: str(sorted(list(x)))), \n",
    "                                        random_state = 2019)"
   ]
  },
  {
   "cell_type": "code",
   "execution_count": 8,
   "id": "f740a0ac",
   "metadata": {},
   "outputs": [],
   "source": [
    "class DG(Sequence):\n",
    "    def __init__(self, images_list = None, folder_imgs = t_image_dir, \n",
    "                 batch_size = 32, shuffle = True, augmentation = None,\n",
    "                 resized_height = 260, resized_width = 260, num_channels = 3):\n",
    "        self.batch_size = batch_size\n",
    "        self.shuffle = shuffle\n",
    "        self.augmentation = augmentation\n",
    "        \n",
    "        if images_list is None:\n",
    "            self.images_list = os.listdir(folder_imgs)\n",
    "        else:\n",
    "            self.images_list = deepcopy(images_list)\n",
    "        \n",
    "        \n",
    "        self.folder_imgs = folder_imgs\n",
    "        self.len = len(self.images_list) // self.batch_size\n",
    "        self.resized_height = resized_height\n",
    "        self.resized_width = resized_width\n",
    "        self.num_channels = num_channels\n",
    "        self.num_classes = 4\n",
    "        self.is_test = not 'train' in folder_imgs\n",
    "        \n",
    "        if not shuffle and not self.is_test:\n",
    "            self.labels = [img_2_ohe_vector[img] for img in self.images_list[:self.len * self.batch_size]]\n",
    "\n",
    "    def __len__(self):\n",
    "        return self.len\n",
    "    \n",
    "    def epoch_start(self):\n",
    "        if self.shuffle:\n",
    "            random.shuffle(self.images_list)\n",
    "\n",
    "    def __getitem__(self, idx):\n",
    "        current_batch = self.images_list[idx * self.batch_size: (idx + 1) * self.batch_size]\n",
    "        X = np.empty((self.batch_size, self.resized_height, self.resized_width, self.num_channels))\n",
    "        y = np.empty((self.batch_size, self.num_classes))\n",
    "\n",
    "        for i, image_name in enumerate(current_batch):\n",
    "            path = os.path.join(self.folder_imgs, image_name)\n",
    "            img = cv2.resize(cv2.imread(path), (self.resized_height, self.resized_width)).astype(np.float32)\n",
    "            \n",
    "            if not self.augmentation is None:\n",
    "                augmented = self.augmentation(image=img)\n",
    "                img = augmented['image']\n",
    "            \n",
    "            X[i, :, :, :] = img/255.0\n",
    "            \n",
    "            if not self.is_test:\n",
    "                y[i, :] = img_2_ohe_vector[image_name]\n",
    "        \n",
    "        return X, y\n",
    "\n",
    "    # get label\n",
    "    def g_label(self):\n",
    "        if self.shuffle:\n",
    "            images_current = self.images_list[:self.len * self.batch_size]\n",
    "            labels = [img_2_ohe_vector[img] for img in images_current]\n",
    "        else:\n",
    "            labels = self.labels\n",
    "        return np.array(labels)"
   ]
  },
  {
   "cell_type": "code",
   "execution_count": 9,
   "id": "e4d6baec",
   "metadata": {},
   "outputs": [],
   "source": [
    "albumentations_train = Compose([ VerticalFlip(), HorizontalFlip(), Rotate(limit=20), GridDistortion() ], p = 1)"
   ]
  },
  {
   "cell_type": "code",
   "execution_count": 10,
   "id": "b8019534",
   "metadata": {},
   "outputs": [],
   "source": [
    "# generator instances\n",
    "data_generator_train = DG(t_image, augmentation = albumentations_train)\n",
    "data_generator_train_eval = DG(t_image, shuffle = False)\n",
    "data_generator_val = DG(validation_image, shuffle = False)"
   ]
  },
  {
   "cell_type": "code",
   "execution_count": 11,
   "id": "6cb515e3",
   "metadata": {},
   "outputs": [],
   "source": [
    "class PR(Callback):\n",
    "    def __init__(self, data_generator, num_workers = num_cores, \n",
    "                 early_stopping_pt = 5, \n",
    "                 plateau_pt = 3, reduction_rate = 0.5,\n",
    "                 stage = 'train', checkpoints_path = 'checkpoints/'):\n",
    "        super(Callback, self).__init__()\n",
    "        self.data_generator = data_generator\n",
    "        self.num_workers = num_workers\n",
    "        self.class_names = ['Fish', 'Flower', 'Sugar', 'Gravel']\n",
    "        self.history = [[] for _ in range(len(self.class_names) + 1)] # to store per each class and also mean PR AUC\n",
    "        self.early_stopping_pt = early_stopping_pt\n",
    "        self.plateau_pt = plateau_pt\n",
    "        self.reduction_rate = reduction_rate\n",
    "        self.stage = stage\n",
    "        self.best_pr_auc = -float('inf')\n",
    "        \n",
    "        if not os.path.exists(checkpoints_path):\n",
    "            os.makedirs(checkpoints_path)\n",
    "        \n",
    "        self.checkpoints_path = checkpoints_path\n",
    "        \n",
    "    def c_auc(self, y_true, y_pred):\n",
    "        pr_auc_mean = 0\n",
    "        for class_i in range(len(self.class_names)):\n",
    "            precision, recall, _ = precision_recall_curve(y_true[:, class_i], y_pred[:, class_i])\n",
    "            pr_auc = auc(recall, precision)\n",
    "            pr_auc_mean += pr_auc/len(self.class_names)\n",
    "            print(f\"PR-AUC {self.class_names[class_i]}, {self.stage}: {pr_auc:.3f}\")\n",
    "            self.history[class_i].append(pr_auc)        \n",
    "        print(f\"\\nmean, {self.stage}: {pr_auc_mean:.3f}\")\n",
    "        self.history[-1].append(pr_auc_mean)\n",
    "        return pr_auc_mean\n",
    "              \n",
    "    def check_pt(self, pt):\n",
    "        if len(self.history[-1]) > pt:\n",
    "            best_performance = max(self.history[-1][-(pt + 1):-1])\n",
    "            return best_performance == self.history[-1][-(pt + 1)] and best_performance >= self.history[-1][-1]    \n",
    "              \n",
    "    def che(self, pr_auc_mean):\n",
    "        if self.check_pt(self.early_stopping_pt):\n",
    "            self.model.stop_training = True    \n",
    "              \n",
    "    def model_checkpoint(self, pr_auc_mean, epoch):\n",
    "        if pr_auc_mean > self.best_pr_auc:\n",
    "            \n",
    "            # remove previous checkpoints to save space\n",
    "            for checkpoint in glob.glob(os.path.join(self.checkpoints_path, 'classifier_epoch_*')):\n",
    "                os.remove(checkpoint)\n",
    "            self.best_pr_auc = pr_auc_mean\n",
    "            self.model.save(os.path.join(self.checkpoints_path, f'classifier_epoch_{epoch}_val_pr_auc_{pr_auc_mean}.h5'))              \n",
    "            print(f\"\\nSaved new checkpoint\")\n",
    "              \n",
    "    def reduce_lr_on_plateau(self):\n",
    "        if self.check_pt(self.plateau_pt):\n",
    "            new_lr = float(keras.backend.get_value(self.model.optimizer.lr)) * self.reduction_rate\n",
    "            keras.backend.set_value(self.model.optimizer.lr, new_lr)\n",
    "            print(f\"\\nReduced learning rate to {new_lr}.\")\n",
    "        \n",
    "    def on_epoch_end(self, epoch, logs={}):\n",
    "        y_pred = self.model.predict_generator(self.data_generator, workers=self.num_workers)\n",
    "        y_true = self.data_generator.g_label()\n",
    "        \n",
    "        # estimate AUC under precision recall curve for each class\n",
    "        pr_auc_mean = self.c_auc(y_true, y_pred)\n",
    "              \n",
    "        if self.stage == 'val':\n",
    "            self.che(pr_auc_mean)\n",
    "            self.model_checkpoint(pr_auc_mean, epoch)\n",
    "            self.reduce_lr_on_plateau()            \n",
    "        \n",
    "    def get_pr_auc_history(self):\n",
    "        return self.history"
   ]
  },
  {
   "cell_type": "code",
   "execution_count": 12,
   "id": "bbe62df4",
   "metadata": {},
   "outputs": [],
   "source": [
    "train_metric_callback = PR(data_generator_train_eval)\n",
    "val_callback = PR(data_generator_val, stage='val')"
   ]
  },
  {
   "cell_type": "code",
   "execution_count": 13,
   "id": "8bac356e",
   "metadata": {},
   "outputs": [],
   "source": [
    "# CLASSIFIER\n",
    "# dice loss\n",
    "from keras.losses import binary_crossentropy\n",
    "def dice_coef(y_true, y_pred, smooth=1):\n",
    "    y_true_f = K.flatten(y_true)\n",
    "    y_pred_f = K.flatten(y_pred)\n",
    "    intersection = K.sum(y_true_f * y_pred_f)\n",
    "    return (2. * intersection + smooth) / (K.sum(y_true_f) + K.sum(y_pred_f) + smooth)\n",
    "\n",
    "def d_c(y_true, y_pred):\n",
    "    smooth = 1.\n",
    "    y_true_f = K.flatten(y_true)\n",
    "    y_pred_f = K.flatten(y_pred)\n",
    "    intersection = y_true_f * y_pred_f\n",
    "    score = (2. * K.sum(intersection) + smooth) / (K.sum(y_true_f) + K.sum(y_pred_f) + smooth)\n",
    "    return 1. - score\n",
    "\n",
    "def bce_d_c(y_true, y_pred):\n",
    "    return binary_crossentropy(y_true, y_pred) + d_c(y_true, y_pred)"
   ]
  },
  {
   "cell_type": "code",
   "execution_count": 15,
   "id": "d9a70132",
   "metadata": {},
   "outputs": [
    {
     "name": "stdout",
     "output_type": "stream",
     "text": [
      "Downloading data from https://github.com/Callidior/keras-applications/releases/download/efficientnet/efficientnet-b0_weights_tf_dim_ordering_tf_kernels_autoaugment_notop.h5\n",
      "16804768/16804768 [==============================] - 10s 1us/step\n"
     ]
    }
   ],
   "source": [
    "import efficientnet.keras as efn \n",
    "def get_model():\n",
    "    K.clear_session()\n",
    "    base_model =  efn.EfficientNetB0(weights='imagenet', include_top=False, pooling='avg', input_shape=(260, 260, 3))\n",
    "#     base_model =  efn.EfficientNetB1(weights='imagenet', include_top=False, pooling='avg', input_shape=(260, 260, 3))\n",
    "#     base_model =  efn.EfficientNetB1(weights='imagenet', include_top=False, pooling='avg', input_shape=(260, 260, 3))\n",
    "#     base_model =  efn.EfficientNetB2(weights='imagenet', include_top=False, pooling='avg', input_shape=(260, 260, 3))\n",
    "#     base_model =  efn.EfficientNetB3(weights='imagenet', include_top=False, pooling='avg', input_shape=(260, 260, 3))\n",
    "#     base_model =  efn.EfficientNetB4(weights='imagenet', include_top=False, pooling='avg', input_shape=(260, 260, 3))\n",
    "#     base_model =  efn.EfficientNetB5(weights='imagenet', include_top=False, pooling='avg', input_shape=(260, 260, 3))\n",
    "    x = base_model.output\n",
    "    y_pred = Dense(4, activation='sigmoid')(x)\n",
    "    return Model(inputs = base_model.input, outputs = y_pred)\n",
    "\n",
    "model = get_model()"
   ]
  },
  {
   "cell_type": "code",
   "execution_count": 16,
   "id": "58fa3b74",
   "metadata": {},
   "outputs": [
    {
     "name": "stderr",
     "output_type": "stream",
     "text": [
      "C:\\Users\\priya\\AppData\\Local\\Temp/ipykernel_28504/2165960536.py:9: UserWarning: `Model.fit_generator` is deprecated and will be removed in a future version. Please use `Model.fit`, which supports generators.\n",
      "  history_0 = model.fit_generator(generator = data_generator_train,\n"
     ]
    },
    {
     "name": "stdout",
     "output_type": "stream",
     "text": [
      "Epoch 1/20\n",
      "138/138 [==============================] - ETA: 0s - loss: 3.0742 - accuracy: 0.1377"
     ]
    },
    {
     "name": "stderr",
     "output_type": "stream",
     "text": [
      "C:\\Users\\priya\\AppData\\Local\\Temp/ipykernel_28504/735188133.py:60: UserWarning: `Model.predict_generator` is deprecated and will be removed in a future version. Please use `Model.predict`, which supports generators.\n",
      "  y_pred = self.model.predict_generator(self.data_generator, workers=self.num_workers)\n"
     ]
    },
    {
     "name": "stdout",
     "output_type": "stream",
     "text": [
      "PR-AUC Fish, train: 0.518\n",
      "PR-AUC Flower, train: 0.555\n",
      "PR-AUC Sugar, train: 0.668\n",
      "PR-AUC Gravel, train: 0.585\n",
      "\n",
      "mean, train: 0.581\n"
     ]
    },
    {
     "name": "stderr",
     "output_type": "stream",
     "text": [
      "C:\\Users\\priya\\AppData\\Local\\Temp/ipykernel_28504/735188133.py:60: UserWarning: `Model.predict_generator` is deprecated and will be removed in a future version. Please use `Model.predict`, which supports generators.\n",
      "  y_pred = self.model.predict_generator(self.data_generator, workers=self.num_workers)\n"
     ]
    },
    {
     "name": "stdout",
     "output_type": "stream",
     "text": [
      "PR-AUC Fish, val: 0.514\n",
      "PR-AUC Flower, val: 0.541\n",
      "PR-AUC Sugar, val: 0.673\n",
      "PR-AUC Gravel, val: 0.574\n",
      "\n",
      "mean, val: 0.576\n",
      "\n",
      "Saved new checkpoint\n",
      "138/138 [==============================] - 466s 3s/step - loss: 3.0742 - accuracy: 0.1377 - val_loss: 3.0165 - val_accuracy: 0.1691\n",
      "Epoch 2/20\n",
      "138/138 [==============================] - ETA: 0s - loss: 2.9609 - accuracy: 0.1846"
     ]
    },
    {
     "name": "stderr",
     "output_type": "stream",
     "text": [
      "C:\\Users\\priya\\AppData\\Local\\Temp/ipykernel_28504/735188133.py:60: UserWarning: `Model.predict_generator` is deprecated and will be removed in a future version. Please use `Model.predict`, which supports generators.\n",
      "  y_pred = self.model.predict_generator(self.data_generator, workers=self.num_workers)\n"
     ]
    },
    {
     "name": "stdout",
     "output_type": "stream",
     "text": [
      "PR-AUC Fish, train: 0.530\n",
      "PR-AUC Flower, train: 0.502\n",
      "PR-AUC Sugar, train: 0.674\n",
      "PR-AUC Gravel, train: 0.591\n",
      "\n",
      "mean, train: 0.574\n"
     ]
    },
    {
     "name": "stderr",
     "output_type": "stream",
     "text": [
      "C:\\Users\\priya\\AppData\\Local\\Temp/ipykernel_28504/735188133.py:60: UserWarning: `Model.predict_generator` is deprecated and will be removed in a future version. Please use `Model.predict`, which supports generators.\n",
      "  y_pred = self.model.predict_generator(self.data_generator, workers=self.num_workers)\n"
     ]
    },
    {
     "name": "stdout",
     "output_type": "stream",
     "text": [
      "PR-AUC Fish, val: 0.522\n",
      "PR-AUC Flower, val: 0.497\n",
      "PR-AUC Sugar, val: 0.680\n",
      "PR-AUC Gravel, val: 0.572\n",
      "\n",
      "mean, val: 0.568\n",
      "138/138 [==============================] - 417s 3s/step - loss: 2.9609 - accuracy: 0.1846 - val_loss: 2.9447 - val_accuracy: 0.2261\n",
      "Epoch 3/20\n",
      "138/138 [==============================] - ETA: 0s - loss: 2.9196 - accuracy: 0.2133"
     ]
    },
    {
     "name": "stderr",
     "output_type": "stream",
     "text": [
      "C:\\Users\\priya\\AppData\\Local\\Temp/ipykernel_28504/735188133.py:60: UserWarning: `Model.predict_generator` is deprecated and will be removed in a future version. Please use `Model.predict`, which supports generators.\n",
      "  y_pred = self.model.predict_generator(self.data_generator, workers=self.num_workers)\n"
     ]
    },
    {
     "name": "stdout",
     "output_type": "stream",
     "text": [
      "PR-AUC Fish, train: 0.751\n",
      "PR-AUC Flower, train: 0.713\n",
      "PR-AUC Sugar, train: 0.838\n",
      "PR-AUC Gravel, train: 0.765\n",
      "\n",
      "mean, train: 0.767\n"
     ]
    },
    {
     "name": "stderr",
     "output_type": "stream",
     "text": [
      "C:\\Users\\priya\\AppData\\Local\\Temp/ipykernel_28504/735188133.py:60: UserWarning: `Model.predict_generator` is deprecated and will be removed in a future version. Please use `Model.predict`, which supports generators.\n",
      "  y_pred = self.model.predict_generator(self.data_generator, workers=self.num_workers)\n"
     ]
    },
    {
     "name": "stdout",
     "output_type": "stream",
     "text": [
      "PR-AUC Fish, val: 0.752\n",
      "PR-AUC Flower, val: 0.713\n",
      "PR-AUC Sugar, val: 0.839\n",
      "PR-AUC Gravel, val: 0.764\n",
      "\n",
      "mean, val: 0.767\n",
      "\n",
      "Saved new checkpoint\n",
      "138/138 [==============================] - 360s 3s/step - loss: 2.9196 - accuracy: 0.2133 - val_loss: 2.8844 - val_accuracy: 0.2702\n",
      "Epoch 4/20\n",
      "138/138 [==============================] - ETA: 0s - loss: 2.8838 - accuracy: 0.2520"
     ]
    },
    {
     "name": "stderr",
     "output_type": "stream",
     "text": [
      "C:\\Users\\priya\\AppData\\Local\\Temp/ipykernel_28504/735188133.py:60: UserWarning: `Model.predict_generator` is deprecated and will be removed in a future version. Please use `Model.predict`, which supports generators.\n",
      "  y_pred = self.model.predict_generator(self.data_generator, workers=self.num_workers)\n"
     ]
    },
    {
     "name": "stdout",
     "output_type": "stream",
     "text": [
      "PR-AUC Fish, train: 0.751\n",
      "PR-AUC Flower, train: 0.713\n",
      "PR-AUC Sugar, train: 0.838\n",
      "PR-AUC Gravel, train: 0.765\n",
      "\n",
      "mean, train: 0.767\n"
     ]
    },
    {
     "name": "stderr",
     "output_type": "stream",
     "text": [
      "C:\\Users\\priya\\AppData\\Local\\Temp/ipykernel_28504/735188133.py:60: UserWarning: `Model.predict_generator` is deprecated and will be removed in a future version. Please use `Model.predict`, which supports generators.\n",
      "  y_pred = self.model.predict_generator(self.data_generator, workers=self.num_workers)\n"
     ]
    },
    {
     "name": "stdout",
     "output_type": "stream",
     "text": [
      "PR-AUC Fish, val: 0.752\n",
      "PR-AUC Flower, val: 0.713\n",
      "PR-AUC Sugar, val: 0.839\n",
      "PR-AUC Gravel, val: 0.764\n",
      "\n",
      "mean, val: 0.767\n",
      "138/138 [==============================] - 3417s 25s/step - loss: 2.8838 - accuracy: 0.2520 - val_loss: 2.8616 - val_accuracy: 0.2868\n",
      "Epoch 5/20\n",
      "138/138 [==============================] - ETA: 0s - loss: 2.8580 - accuracy: 0.2785"
     ]
    },
    {
     "name": "stderr",
     "output_type": "stream",
     "text": [
      "C:\\Users\\priya\\AppData\\Local\\Temp/ipykernel_28504/735188133.py:60: UserWarning: `Model.predict_generator` is deprecated and will be removed in a future version. Please use `Model.predict`, which supports generators.\n",
      "  y_pred = self.model.predict_generator(self.data_generator, workers=self.num_workers)\n"
     ]
    },
    {
     "name": "stdout",
     "output_type": "stream",
     "text": [
      "PR-AUC Fish, train: 0.751\n",
      "PR-AUC Flower, train: 0.713\n",
      "PR-AUC Sugar, train: 0.838\n",
      "PR-AUC Gravel, train: 0.765\n",
      "\n",
      "mean, train: 0.767\n"
     ]
    },
    {
     "name": "stderr",
     "output_type": "stream",
     "text": [
      "C:\\Users\\priya\\AppData\\Local\\Temp/ipykernel_28504/735188133.py:60: UserWarning: `Model.predict_generator` is deprecated and will be removed in a future version. Please use `Model.predict`, which supports generators.\n",
      "  y_pred = self.model.predict_generator(self.data_generator, workers=self.num_workers)\n"
     ]
    },
    {
     "name": "stdout",
     "output_type": "stream",
     "text": [
      "PR-AUC Fish, val: 0.752\n",
      "PR-AUC Flower, val: 0.713\n",
      "PR-AUC Sugar, val: 0.839\n",
      "PR-AUC Gravel, val: 0.764\n",
      "\n",
      "mean, val: 0.767\n",
      "138/138 [==============================] - 394s 3s/step - loss: 2.8580 - accuracy: 0.2785 - val_loss: 2.8463 - val_accuracy: 0.2996\n",
      "Epoch 6/20\n",
      "138/138 [==============================] - ETA: 0s - loss: 2.8501 - accuracy: 0.2817"
     ]
    },
    {
     "name": "stderr",
     "output_type": "stream",
     "text": [
      "C:\\Users\\priya\\AppData\\Local\\Temp/ipykernel_28504/735188133.py:60: UserWarning: `Model.predict_generator` is deprecated and will be removed in a future version. Please use `Model.predict`, which supports generators.\n",
      "  y_pred = self.model.predict_generator(self.data_generator, workers=self.num_workers)\n"
     ]
    },
    {
     "name": "stdout",
     "output_type": "stream",
     "text": [
      "PR-AUC Fish, train: 0.751\n",
      "PR-AUC Flower, train: 0.713\n",
      "PR-AUC Sugar, train: 0.838\n",
      "PR-AUC Gravel, train: 0.765\n",
      "\n",
      "mean, train: 0.767\n"
     ]
    },
    {
     "name": "stderr",
     "output_type": "stream",
     "text": [
      "C:\\Users\\priya\\AppData\\Local\\Temp/ipykernel_28504/735188133.py:60: UserWarning: `Model.predict_generator` is deprecated and will be removed in a future version. Please use `Model.predict`, which supports generators.\n",
      "  y_pred = self.model.predict_generator(self.data_generator, workers=self.num_workers)\n"
     ]
    },
    {
     "name": "stdout",
     "output_type": "stream",
     "text": [
      "PR-AUC Fish, val: 0.752\n",
      "PR-AUC Flower, val: 0.713\n",
      "PR-AUC Sugar, val: 0.839\n",
      "PR-AUC Gravel, val: 0.764\n",
      "\n",
      "mean, val: 0.767\n",
      "\n",
      "Reduced learning rate to 0.0005000000237487257.\n",
      "138/138 [==============================] - 369s 3s/step - loss: 2.8501 - accuracy: 0.2817 - val_loss: 2.8476 - val_accuracy: 0.3006\n",
      "Epoch 7/20\n",
      "138/138 [==============================] - ETA: 0s - loss: 2.8365 - accuracy: 0.3102"
     ]
    },
    {
     "name": "stderr",
     "output_type": "stream",
     "text": [
      "C:\\Users\\priya\\AppData\\Local\\Temp/ipykernel_28504/735188133.py:60: UserWarning: `Model.predict_generator` is deprecated and will be removed in a future version. Please use `Model.predict`, which supports generators.\n",
      "  y_pred = self.model.predict_generator(self.data_generator, workers=self.num_workers)\n"
     ]
    },
    {
     "name": "stdout",
     "output_type": "stream",
     "text": [
      "PR-AUC Fish, train: 0.751\n",
      "PR-AUC Flower, train: 0.713\n",
      "PR-AUC Sugar, train: 0.838\n",
      "PR-AUC Gravel, train: 0.765\n",
      "\n",
      "mean, train: 0.767\n"
     ]
    },
    {
     "name": "stderr",
     "output_type": "stream",
     "text": [
      "C:\\Users\\priya\\AppData\\Local\\Temp/ipykernel_28504/735188133.py:60: UserWarning: `Model.predict_generator` is deprecated and will be removed in a future version. Please use `Model.predict`, which supports generators.\n",
      "  y_pred = self.model.predict_generator(self.data_generator, workers=self.num_workers)\n"
     ]
    },
    {
     "name": "stdout",
     "output_type": "stream",
     "text": [
      "PR-AUC Fish, val: 0.752\n",
      "PR-AUC Flower, val: 0.713\n",
      "PR-AUC Sugar, val: 0.839\n",
      "PR-AUC Gravel, val: 0.764\n",
      "\n",
      "mean, val: 0.767\n",
      "\n",
      "Reduced learning rate to 0.0002500000118743628.\n",
      "138/138 [==============================] - 368s 3s/step - loss: 2.8365 - accuracy: 0.3102 - val_loss: 2.8304 - val_accuracy: 0.3676\n",
      "Epoch 8/20\n",
      "138/138 [==============================] - ETA: 0s - loss: 2.8310 - accuracy: 0.3170"
     ]
    },
    {
     "name": "stderr",
     "output_type": "stream",
     "text": [
      "C:\\Users\\priya\\AppData\\Local\\Temp/ipykernel_28504/735188133.py:60: UserWarning: `Model.predict_generator` is deprecated and will be removed in a future version. Please use `Model.predict`, which supports generators.\n",
      "  y_pred = self.model.predict_generator(self.data_generator, workers=self.num_workers)\n"
     ]
    },
    {
     "name": "stdout",
     "output_type": "stream",
     "text": [
      "PR-AUC Fish, train: 0.751\n",
      "PR-AUC Flower, train: 0.713\n",
      "PR-AUC Sugar, train: 0.838\n",
      "PR-AUC Gravel, train: 0.765\n",
      "\n",
      "mean, train: 0.767\n"
     ]
    },
    {
     "name": "stderr",
     "output_type": "stream",
     "text": [
      "C:\\Users\\priya\\AppData\\Local\\Temp/ipykernel_28504/735188133.py:60: UserWarning: `Model.predict_generator` is deprecated and will be removed in a future version. Please use `Model.predict`, which supports generators.\n",
      "  y_pred = self.model.predict_generator(self.data_generator, workers=self.num_workers)\n"
     ]
    },
    {
     "name": "stdout",
     "output_type": "stream",
     "text": [
      "PR-AUC Fish, val: 0.752\n",
      "PR-AUC Flower, val: 0.713\n",
      "PR-AUC Sugar, val: 0.839\n",
      "PR-AUC Gravel, val: 0.764\n",
      "\n",
      "mean, val: 0.767\n",
      "\n",
      "Reduced learning rate to 0.0001250000059371814.\n",
      "\b\b\b\b\b\b\b\b\b\b\b\b\b\b\b\b\b\b\b\b\b\b\b\b\b\b\b\b\b\b\b\b\b\b\b\b\b\b\b\b\b\b\b\b\b\b\b\b\b\b\b\b\b\b\b\b\b\b\b\b\b\b\b\b\b\b\b\b\b\b\b\b\b\b\b\b\b\b\b\b\b\b\b\b\r",
      "138/138 [==============================] - 367s 3s/step - loss: 2.8310 - accuracy: 0.3170 - val_loss: 2.8292 - val_accuracy: 0.3594\n"
     ]
    }
   ],
   "source": [
    "# Initial tuning of the added fully-connected layer\n",
    "for base_layer in model.layers[:-3]:\n",
    "    base_layer.trainable = False\n",
    "    \n",
    "model.compile(optimizer = RAdam(warmup_proportion = 0.1, min_lr = 1e-5),  \n",
    "                              loss = 'categorical_crossentropy', \n",
    "                              metrics = ['accuracy'])\n",
    "\n",
    "history_0 = model.fit_generator(generator = data_generator_train,\n",
    "                              validation_data = data_generator_val,\n",
    "                              epochs = 20,\n",
    "                              callbacks = [train_metric_callback, val_callback],\n",
    "                              workers = num_cores,\n",
    "                              verbose = 1)"
   ]
  },
  {
   "cell_type": "code",
   "execution_count": 17,
   "id": "00e89e63",
   "metadata": {},
   "outputs": [
    {
     "name": "stderr",
     "output_type": "stream",
     "text": [
      "C:\\Users\\priya\\AppData\\Local\\Temp/ipykernel_28504/1519345561.py:7: UserWarning: `Model.fit_generator` is deprecated and will be removed in a future version. Please use `Model.fit`, which supports generators.\n",
      "  history_1 = model.fit_generator(generator = data_generator_train,\n"
     ]
    },
    {
     "name": "stdout",
     "output_type": "stream",
     "text": [
      "Epoch 2/20\n",
      "138/138 [==============================] - ETA: 0s - loss: 3.4633 - accuracy: 0.2810"
     ]
    },
    {
     "name": "stderr",
     "output_type": "stream",
     "text": [
      "C:\\Users\\priya\\AppData\\Local\\Temp/ipykernel_28504/735188133.py:60: UserWarning: `Model.predict_generator` is deprecated and will be removed in a future version. Please use `Model.predict`, which supports generators.\n",
      "  y_pred = self.model.predict_generator(self.data_generator, workers=self.num_workers)\n"
     ]
    },
    {
     "name": "stdout",
     "output_type": "stream",
     "text": [
      "PR-AUC Fish, train: 0.751\n",
      "PR-AUC Flower, train: 0.713\n",
      "PR-AUC Sugar, train: 0.838\n",
      "PR-AUC Gravel, train: 0.765\n",
      "\n",
      "mean, train: 0.767\n"
     ]
    },
    {
     "name": "stderr",
     "output_type": "stream",
     "text": [
      "C:\\Users\\priya\\AppData\\Local\\Temp/ipykernel_28504/735188133.py:60: UserWarning: `Model.predict_generator` is deprecated and will be removed in a future version. Please use `Model.predict`, which supports generators.\n",
      "  y_pred = self.model.predict_generator(self.data_generator, workers=self.num_workers)\n"
     ]
    },
    {
     "name": "stdout",
     "output_type": "stream",
     "text": [
      "PR-AUC Fish, val: 0.752\n",
      "PR-AUC Flower, val: 0.713\n",
      "PR-AUC Sugar, val: 0.839\n",
      "PR-AUC Gravel, val: 0.764\n",
      "\n",
      "mean, val: 0.767\n",
      "\n",
      "Reduced learning rate to 0.0005000000237487257.\n",
      "\b\b\b\b\b\b\b\b\b\b\b\b\b\b\b\b\b\b\b\b\b\b\b\b\b\b\b\b\b\b\b\b\b\b\b\b\b\b\b\b\b\b\b\b\b\b\b\b\b\b\b\b\b\b\b\b\b\b\b\b\b\b\b\b\b\b\b\b\b\b\b\b\b\b\b\b\b\b\b\b\b\b\b\b\r",
      "138/138 [==============================] - 1042s 7s/step - loss: 3.4633 - accuracy: 0.2810 - val_loss: 2.9733 - val_accuracy: 0.2059\n"
     ]
    }
   ],
   "source": [
    "for base_layer in model.layers[:-3]:\n",
    "    base_layer.trainable = True\n",
    "    \n",
    "model.compile(optimizer = RAdam(warmup_proportion = 0.1, min_lr = 1e-5),  \n",
    "                              loss = 'categorical_crossentropy', \n",
    "                              metrics = ['accuracy'])\n",
    "history_1 = model.fit_generator(generator = data_generator_train,\n",
    "                              validation_data = data_generator_val,\n",
    "                              epochs = 20,\n",
    "                              callbacks = [train_metric_callback, val_callback],\n",
    "                              workers = num_cores,\n",
    "                              verbose = 1,\n",
    "                              initial_epoch = 1)"
   ]
  },
  {
   "cell_type": "code",
   "execution_count": null,
   "id": "a1ddc6d2",
   "metadata": {},
   "outputs": [],
   "source": []
  }
 ],
 "metadata": {
  "kernelspec": {
   "display_name": "Python 3 (ipykernel)",
   "language": "python",
   "name": "python3"
  },
  "language_info": {
   "codemirror_mode": {
    "name": "ipython",
    "version": 3
   },
   "file_extension": ".py",
   "mimetype": "text/x-python",
   "name": "python",
   "nbconvert_exporter": "python",
   "pygments_lexer": "ipython3",
   "version": "3.9.7"
  }
 },
 "nbformat": 4,
 "nbformat_minor": 5
}
